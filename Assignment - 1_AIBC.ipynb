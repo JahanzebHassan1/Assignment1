{
 "cells": [
  {
   "cell_type": "code",
   "execution_count": null,
   "id": "d81cd7d5",
   "metadata": {},
   "outputs": [],
   "source": [
    "#JAHANZEB HASSAN"
   ]
  },
  {
   "cell_type": "code",
   "execution_count": 252,
   "id": "fe99f1ba",
   "metadata": {},
   "outputs": [
    {
     "name": "stdout",
     "output_type": "stream",
     "text": [
      "Enter your age30\n",
      "Your age is  55\n",
      "Enter your nameJahanzeb\n",
      "Your name is Jahanzeb Smith\n",
      "Are you a student? yes/noyes\n",
      "True\n",
      "False\n"
     ]
    }
   ],
   "source": [
    "age = int(input(\"Enter your age\"))\n",
    "print(\"Your age is \",age+25)\n",
    "name = input(\"Enter your name\")\n",
    "print(\"Your name is\",name+\" Smith\")\n",
    "student= input(\"Are you a student? yes/no\")\n",
    "a =\"yes\"\n",
    "print(student ==a)\n",
    "print(student!=a)\n"
   ]
  },
  {
   "cell_type": "code",
   "execution_count": 237,
   "id": "cbce9e44",
   "metadata": {},
   "outputs": [
    {
     "name": "stdout",
     "output_type": "stream",
     "text": [
      "The area of rectangle comes out to be 17.875\n"
     ]
    }
   ],
   "source": [
    "width = 5.5\n",
    "height = 3.25\n",
    "area = width*height\n",
    "print(\"The area of rectangle comes out to be\",area)"
   ]
  },
  {
   "cell_type": "code",
   "execution_count": 242,
   "id": "ff0054b0",
   "metadata": {},
   "outputs": [
    {
     "name": "stdout",
     "output_type": "stream",
     "text": [
      "The temperature in fahrenheit is 50.0\n"
     ]
    }
   ],
   "source": [
    "celsius = 10\n",
    "fahrenheit = ((celsius)*9/5)+32\n",
    "print(\"The temperature in fahrenheit is\",fahrenheit)"
   ]
  },
  {
   "cell_type": "code",
   "execution_count": 239,
   "id": "4bae21cd",
   "metadata": {},
   "outputs": [
    {
     "name": "stdout",
     "output_type": "stream",
     "text": [
      "Area of circle comes out to be 78.53975\n"
     ]
    }
   ],
   "source": [
    "radius = 5\n",
    "pi = 3.14159\n",
    "area = pi*radius**2\n",
    "print(\"Area of circle comes out to be\",area)"
   ]
  },
  {
   "cell_type": "code",
   "execution_count": 47,
   "id": "a8605fa8",
   "metadata": {},
   "outputs": [
    {
     "name": "stdout",
     "output_type": "stream",
     "text": [
      "['apple', 'banana', 'orange', 'grape', 'kiwi']\n"
     ]
    }
   ],
   "source": [
    "fruits =[\"apple\", \"banana\",\"orange\",\"grape\",\"kiwi\"]\n",
    "print(fruits)"
   ]
  },
  {
   "cell_type": "code",
   "execution_count": 262,
   "id": "6d8ae921",
   "metadata": {},
   "outputs": [
    {
     "name": "stdout",
     "output_type": "stream",
     "text": [
      "('January', 'February', 'March')\n"
     ]
    }
   ],
   "source": [
    "months=(\"January\",\"February\",\"March\")\n",
    "print(months)"
   ]
  },
  {
   "cell_type": "code",
   "execution_count": 261,
   "id": "1cd6505d",
   "metadata": {},
   "outputs": [
    {
     "name": "stdout",
     "output_type": "stream",
     "text": [
      "The sum of the numbers is 426\n",
      "The average of the numbers is 53.25\n"
     ]
    }
   ],
   "source": [
    "numbers = [12, 34, 45, 67, 89, 100, 23, 56]\n",
    "Sum =sum(numbers)\n",
    "print(\"The sum of the numbers is\",Sum)\n",
    "average = Sum/len(numbers)\n",
    "print(\"The average of the numbers is\",average)"
   ]
  },
  {
   "cell_type": "code",
   "execution_count": 247,
   "id": "deb5203e",
   "metadata": {},
   "outputs": [
    {
     "name": "stdout",
     "output_type": "stream",
     "text": [
      "['banana', 'orange', 'grape']\n"
     ]
    }
   ],
   "source": [
    "fruits =[\"apple\", \"banana\",\"orange\",\"grape\",\"kiwi\"]\n",
    "fruits.pop(0)\n",
    "fruits.pop(len(fruits)-1)\n",
    "print(fruits)"
   ]
  },
  {
   "cell_type": "code",
   "execution_count": 248,
   "id": "0feae668",
   "metadata": {},
   "outputs": [
    {
     "name": "stdout",
     "output_type": "stream",
     "text": [
      "{'USA': 'Washington D.C.', 'France': 'Paris', 'Japan': 'Tokyo'}\n",
      "{'USA': 'Washington D.C.', 'France': 'Paris', 'Japan': 'Tokyo', 'Germany': 'Berlin'}\n",
      "France is present\n"
     ]
    }
   ],
   "source": [
    "capitals={\"USA\":\"Washington D.C.\",\n",
    "          \"France\":\"Paris\",\n",
    "          \"Japan\":\"Tokyo\"\n",
    "          }\n",
    "print(capitals)\n",
    "capitals.update({\"Germany\":\"Berlin\"\n",
    "})\n",
    "print(capitals)\n",
    "if \"France\" in capitals:\n",
    "    print(\"France is present\")\n",
    "else:\n",
    "    print(\"France is not present\")"
   ]
  },
  {
   "cell_type": "code",
   "execution_count": 1,
   "id": "08d05162",
   "metadata": {},
   "outputs": [
    {
     "name": "stdout",
     "output_type": "stream",
     "text": [
      "Enter the number1\n",
      "The number is odd\n"
     ]
    }
   ],
   "source": [
    "number=int(input(\"Enter the number\"))\n",
    "if number%2==0:\n",
    "    print(\"The number is even\")\n",
    "else:\n",
    "    print(\"The number is odd\")"
   ]
  },
  {
   "cell_type": "code",
   "execution_count": 77,
   "id": "2fcb2b7c",
   "metadata": {},
   "outputs": [
    {
     "name": "stdout",
     "output_type": "stream",
     "text": [
      "Eligible for admission\n"
     ]
    }
   ],
   "source": [
    "age =18\n",
    "gpa = 3.0\n",
    "if age>=18 and gpa>=3.0:\n",
    "    print(\"Eligible for admission\")\n",
    "else:\n",
    "    print(\"Not Eligible for admission\")"
   ]
  },
  {
   "cell_type": "code",
   "execution_count": 78,
   "id": "92a19855",
   "metadata": {},
   "outputs": [
    {
     "name": "stdout",
     "output_type": "stream",
     "text": [
      "{'apple', 'kiwi', 'banana', 'grape', 'orange'}\n"
     ]
    }
   ],
   "source": [
    "set ={\"apple\",\"banana\",\"orange\",\"grape\",\"kiwi\"}\n",
    "print(set)"
   ]
  },
  {
   "cell_type": "code",
   "execution_count": 117,
   "id": "b289c8a6",
   "metadata": {},
   "outputs": [
    {
     "name": "stdout",
     "output_type": "stream",
     "text": [
      "{1, 2, 3, 4, 5, 6, 7}\n",
      "{3, 4, 5}\n",
      "{1, 2}\n",
      "False\n"
     ]
    }
   ],
   "source": [
    "set1={1,2,3,4,5}\n",
    "set2={3,4,5,6,7}\n",
    "union = set1.union(set2)\n",
    "print(union)\n",
    "intersection = set1.intersection(set2)\n",
    "print(intersection)\n",
    "difference =set1.difference(set2)\n",
    "print(difference)\n",
    "print(set1.issubset(set2))"
   ]
  },
  {
   "cell_type": "code",
   "execution_count": 259,
   "id": "835400e1",
   "metadata": {},
   "outputs": [
    {
     "name": "stdout",
     "output_type": "stream",
     "text": [
      "39\n",
      "PYTHON PROGRAMMING IS FUN AND POWERFUL!\n",
      "Python programming is exciting and powerful!\n",
      "Word is present\n",
      "['Python', 'programming', 'is', 'fun', 'and', 'powerful!']\n"
     ]
    }
   ],
   "source": [
    "string = \"Python programming is fun and powerful!\"\n",
    "print(len(string))\n",
    "print(string.upper())\n",
    "print(string.replace(\"fun\",\"exciting\"))\n",
    "word = \"Python\"\n",
    "if word in string:\n",
    "    print(\"Word is present\")\n",
    "else:\n",
    "    print(\"Word is not present\")\n",
    "print(string.split())\n"
   ]
  },
  {
   "cell_type": "code",
   "execution_count": 249,
   "id": "e85d611a",
   "metadata": {},
   "outputs": [
    {
     "name": "stdout",
     "output_type": "stream",
     "text": [
      "The number of vowels in the string is 10\n"
     ]
    }
   ],
   "source": [
    "def num_vowels(string):\n",
    "    vowels =['a','e','i','o','u']\n",
    "    count=0\n",
    "    for i in string:\n",
    "        for j in vowels:\n",
    "            if i==j:\n",
    "                count+=1\n",
    "    print('The number of vowels in the string is',count)\n",
    "\n",
    "num_vowels(\"Learning Python is fun and engaging.\")\n"
   ]
  },
  {
   "cell_type": "code",
   "execution_count": 251,
   "id": "72311c7e",
   "metadata": {},
   "outputs": [
    {
     "name": "stdout",
     "output_type": "stream",
     "text": [
      "Hours into minutes are 60\n"
     ]
    }
   ],
   "source": [
    "def hours_to_min(hours):\n",
    "    minutes =hours*60\n",
    "    return(print(\"Hours into minutes are\",minutes))\n",
    "hours_to_min(1)\n",
    "    "
   ]
  },
  {
   "cell_type": "code",
   "execution_count": 204,
   "id": "a723fd35",
   "metadata": {},
   "outputs": [
    {
     "name": "stdout",
     "output_type": "stream",
     "text": [
      "1 X 3 = 3\n",
      "2 X 3 = 6\n",
      "3 X 3 = 9\n",
      "4 X 3 = 12\n",
      "5 X 3 = 15\n",
      "6 X 3 = 18\n",
      "7 X 3 = 21\n",
      "8 X 3 = 24\n",
      "9 X 3 = 27\n",
      "10 X 3 = 30\n",
      "11 X 3 = 33\n",
      "12 X 3 = 36\n"
     ]
    }
   ],
   "source": [
    "def table(number):\n",
    "    for i in range(1,13):\n",
    "        j=i*number\n",
    "        print(i,\"X\",number,\"=\",j)\n",
    "table(3)"
   ]
  }
 ],
 "metadata": {
  "kernelspec": {
   "display_name": "Python 3 (ipykernel)",
   "language": "python",
   "name": "python3"
  },
  "language_info": {
   "codemirror_mode": {
    "name": "ipython",
    "version": 3
   },
   "file_extension": ".py",
   "mimetype": "text/x-python",
   "name": "python",
   "nbconvert_exporter": "python",
   "pygments_lexer": "ipython3",
   "version": "3.9.13"
  }
 },
 "nbformat": 4,
 "nbformat_minor": 5
}
